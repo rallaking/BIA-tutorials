{
 "cells": [
  {
   "cell_type": "markdown",
   "metadata": {},
   "source": [
    "## Naïve Bayes\n",
    "source: Wikipedia\n",
    "\n",
    "In machine learning, Naïve Bayes classifiers are a family of simple \"probabilistic classifiers\" based on applying Bayes' theorem with strong (naïve) independence assumptions between the features. They are among the simplest Bayesian network models.\n",
    "\n",
    "Naïve Bayes has been studied extensively since the 1960s. It was introduced (though not under that name) into the text retrieval community in the early 1960s, and remains a popular (baseline) method for text categorization, the problem of judging documents as belonging to one category or the other (such as spam or legitimate, sports or politics, etc.) with word frequencies as the features. With appropriate pre-processing, it is competitive in this domain with more advanced methods including support vector machines. It also finds application in automatic medical diagnosis.\n",
    "\n",
    "https://en.wikipedia.org/wiki/Naive_Bayes_classifier"
   ]
  },
  {
   "cell_type": "markdown",
   "metadata": {},
   "source": [
    "Naïve Bayes is used mainly for text classification, such as spam filtration, sentimental analysis, classifying news articles and recommendation systems. \n",
    "\n",
    "The term \"naïve\" is used because this model makes the assumption that the occurance of a feature is independent of the occurrence of other features, that all the properties contribute to the probability of an event based on previous knowledge available of the events.\n",
    "\n"
   ]
  },
  {
   "cell_type": "markdown",
   "metadata": {},
   "source": [
    "#### Install Packages and Import Libraries\n",
    "Typically packages and libraries are compiled at the start of the code so it's easier to read and understand what is used; however, it's acceptable to install or import at any point in your code.\n",
    "\n",
    "First, we would normally install the packages. Using mybinder.org, the packages are installed at execution time, so this code is not needed in these tutorials. If you download and run this notebook, you may need to install the packages."
   ]
  },
  {
   "cell_type": "code",
   "execution_count": null,
   "metadata": {},
   "outputs": [],
   "source": [
    "# This is normally where you'd type the code to install the packages required.\n",
    "\n",
    "# !pip install sklearn\n",
    "# !pip install numpy\n",
    "# !pip install matplotlib\n",
    "# !pip install pandas\n",
    "# !pip install seaborn"
   ]
  },
  {
   "cell_type": "markdown",
   "metadata": {},
   "source": [
    "#### Package information for curious minds:\n",
    "https://numpy.org/devdocs/user/absolute_beginners.html  \n",
    "https://matplotlib.org/tutorials/introductory/usage.html#sphx-glr-tutorials-introductory-usage-py  \n",
    "https://pandas.pydata.org/pandas-docs/stable/user_guide/10min.html  \n",
    "https://scikit-learn.org/stable/tutorial/index.html  \n",
    "https://seaborn.pydata.org/introduction.html"
   ]
  },
  {
   "cell_type": "markdown",
   "metadata": {},
   "source": [
    "Next we will import the libraries we need. "
   ]
  },
  {
   "cell_type": "code",
   "execution_count": null,
   "metadata": {},
   "outputs": [],
   "source": [
    "# run this cell\n",
    "import pandas as pd"
   ]
  },
  {
   "cell_type": "markdown",
   "metadata": {},
   "source": [
    "##### We shorten _pandas_ to _pd_ in order to save time and also to keep code standardized so that anyone working with your code can easily understand and run it."
   ]
  },
  {
   "cell_type": "code",
   "execution_count": null,
   "metadata": {},
   "outputs": [],
   "source": [
    "# run this cell\n",
    "import matplotlib.pyplot as plt"
   ]
  },
  {
   "cell_type": "markdown",
   "metadata": {},
   "source": [
    "##### We provided an alias for _matplotlib.pyplot_ so that we can use _plt_ throughout the code instead of typing matplotlib.pyplot each time. \n"
   ]
  },
  {
   "cell_type": "markdown",
   "metadata": {},
   "source": [
    "Next we will import several different functions from the _sklearn_ module. "
   ]
  },
  {
   "cell_type": "code",
   "execution_count": null,
   "metadata": {},
   "outputs": [],
   "source": [
    "# run this cell\n",
    "from sklearn import preprocessing\n",
    "from sklearn.naive_bayes import GaussianNB\n",
    "from sklearn.metrics import accuracy_score"
   ]
  },
  {
   "cell_type": "markdown",
   "metadata": {},
   "source": [
    "To refer to items from a module within your program’s namespace, you can use the <font color=green>__from__</font> … <font color=green>__import__</font> statement.  \n",
    "When you import modules this way, you can refer to the functions by name rather than through dot notation"
   ]
  },
  {
   "cell_type": "code",
   "execution_count": null,
   "metadata": {},
   "outputs": [],
   "source": [
    "# run this cell\n",
    "import seaborn as sns\n"
   ]
  },
  {
   "cell_type": "markdown",
   "metadata": {},
   "source": [
    "Finally, import numpy with the alias \"np\".  \n",
    "><font color=green>__import__</font> numpy <font color=green>__as__</font> np"
   ]
  },
  {
   "cell_type": "code",
   "execution_count": null,
   "metadata": {},
   "outputs": [],
   "source": [
    "# type the code to import numpy below:\n",
    "\n"
   ]
  },
  {
   "cell_type": "markdown",
   "metadata": {},
   "source": [
    "#### Creating Models\n",
    "While numerical values may be the natural state of the data provided, such as a table with columns representing height, weight, age, and salary, it is quite common for data to be text values, such as colours (\"red\", \"blue\", \"yellow\", \"green\"), sizes (\"small\", \"medium\", \"large\") or geographic (\"Canada\", \"Netherlands\", \"Australia\").\n",
    "\n",
    "While some machine learning algorithms can support categorical data without manipulation, many models require numerical data. This requires transforming the text values into numbers.\n",
    "\n",
    "\n",
    "#### Label Encoder  \n",
    "LabelEncoder is a utility class to help normalize labels such that they contain only values between 0 and n_classes-1. \n",
    "> Why n-classes-1? If you recall that Python uses a zero-based index, the first value will start at 0, not 1.\n",
    "\n",
    "We will use Label Encoder to transform text values to numbers. We will name the variable `le_cities`. Each time we type `le_cities` it is the same as calling `preprocessing.LabelEncoder()`\n",
    "\n",
    ">`le_cities = preprocessing.LabelEncoder()`"
   ]
  },
  {
   "cell_type": "code",
   "execution_count": null,
   "metadata": {},
   "outputs": [],
   "source": [
    "# type the code for le_cities below:\n",
    "\n"
   ]
  },
  {
   "cell_type": "markdown",
   "metadata": {},
   "source": [
    "Next we will call the fuction `fit` to fit the label encoder and pass through a list of city names.\n",
    ">`le_cities.fit([\"paris\", \"paris\", \"tokyo\", \"amsterdam\"])`"
   ]
  },
  {
   "cell_type": "code",
   "execution_count": null,
   "metadata": {},
   "outputs": [],
   "source": [
    "# type the code to pass the list of city names into le\n",
    "\n"
   ]
  },
  {
   "cell_type": "markdown",
   "metadata": {},
   "source": [
    "The results of fitting the label encoder were not returned because we didn't specify to do so. \n",
    "Let's return the classes in the city list.\n",
    ">`list(le_cities.classes_)`"
   ]
  },
  {
   "cell_type": "code",
   "execution_count": null,
   "metadata": {},
   "outputs": [],
   "source": [
    "# type the code to return the classes\n",
    "\n"
   ]
  },
  {
   "cell_type": "markdown",
   "metadata": {},
   "source": [
    "Notice that \"paris\" was returned once, even though it was originally listed twice. Because Label Encoder already assigned a value to \"paris\", any additional instances will have the same value. This means it will only display unique values.  \n",
    "\n",
    "Now let's transform a list of cities to numeric values.\n",
    ">`list(le_cities.transform([\"tokyo\", \"tokyo\", \"paris\"]))`"
   ]
  },
  {
   "cell_type": "code",
   "execution_count": null,
   "metadata": {},
   "outputs": [],
   "source": [
    "# type the code to transform \"tokyo\", \"tokyo\", \"paris\"\n",
    "\n"
   ]
  },
  {
   "cell_type": "markdown",
   "metadata": {},
   "source": [
    "Once we have the numeric values, we can use `inverse_transform` to convert the numbers back to text.  \n",
    ">`list(le_cities.inverse_transform([2, 2, 1]))`"
   ]
  },
  {
   "cell_type": "code",
   "execution_count": null,
   "metadata": {},
   "outputs": [],
   "source": [
    "# type the code to inverse_transform 2, 2, 1\n",
    "\n"
   ]
  },
  {
   "cell_type": "markdown",
   "metadata": {},
   "source": [
    "Now using the code you typed above perform the following steps:\n",
    "1. create a variable `le_colours`\n",
    "2. fit \"blue\", \"white\", \"red\" to the label encoder\n",
    "3. list the classes in le_colours\n",
    "4. transform \"blue\" to the encoded value\n",
    "5. transform the encoded value back to the text \"blue\""
   ]
  },
  {
   "cell_type": "code",
   "execution_count": null,
   "metadata": {},
   "outputs": [],
   "source": [
    "# type the code for step 1\n"
   ]
  },
  {
   "cell_type": "code",
   "execution_count": null,
   "metadata": {},
   "outputs": [],
   "source": [
    "# type the code for step 2\n"
   ]
  },
  {
   "cell_type": "code",
   "execution_count": null,
   "metadata": {},
   "outputs": [],
   "source": [
    "# type the code for step 3\n"
   ]
  },
  {
   "cell_type": "code",
   "execution_count": null,
   "metadata": {},
   "outputs": [],
   "source": [
    "# type the code for step 4\n"
   ]
  },
  {
   "cell_type": "code",
   "execution_count": null,
   "metadata": {},
   "outputs": [],
   "source": [
    "# type the code for step 5\n"
   ]
  },
  {
   "cell_type": "markdown",
   "metadata": {},
   "source": [
    "#### Our sample data\n",
    "For this example, we are using a small golf dataset to predict whether or not someone will play golf based on different conditions.\n",
    "\n",
    "Our data contains columns of data representing the outlook, temperature (one column in degrees Fahrenheit and one column categorized), humidity (column for relative humidity and one column categorized), windy conditions and whether or not golf was played. Each row represents one day of data.\n",
    "\n",
    "To start, import the dataset\n",
    ">`golf_data = pd.read_csv('datasets/golf_dataset.csv')`"
   ]
  },
  {
   "cell_type": "code",
   "execution_count": null,
   "metadata": {},
   "outputs": [],
   "source": [
    "# type the code to import the dataset\n"
   ]
  },
  {
   "cell_type": "markdown",
   "metadata": {},
   "source": [
    "Next we will explore the data before doing any transformation. \n",
    "To start, let's look at the first 5 rows of data.\n",
    ">`golf_data.head()`\n"
   ]
  },
  {
   "cell_type": "code",
   "execution_count": null,
   "metadata": {},
   "outputs": [],
   "source": [
    "# type the code to display the first 5 rows of data\n"
   ]
  },
  {
   "cell_type": "markdown",
   "metadata": {},
   "source": [
    "We can also view the last 5 rows of data using `.tail()`.\n",
    "\n",
    ">`golf_data.tail()`"
   ]
  },
  {
   "cell_type": "code",
   "execution_count": null,
   "metadata": {},
   "outputs": [],
   "source": [
    "# type the code to display the last 5 rows of data\n"
   ]
  },
  {
   "cell_type": "markdown",
   "metadata": {},
   "source": [
    "To explore the number of columns and rows in the data, we use `.shape`.\n",
    ">`golf_data.shape`"
   ]
  },
  {
   "cell_type": "code",
   "execution_count": null,
   "metadata": {},
   "outputs": [],
   "source": [
    "# type the code to display the shape of the data\n"
   ]
  },
  {
   "cell_type": "markdown",
   "metadata": {},
   "source": [
    "We could also view the shape of the data by viewing the length of the index and columns.\n",
    ">`len(golf_data.index)`  \n",
    ">`len(golf_data.columns)`"
   ]
  },
  {
   "cell_type": "code",
   "execution_count": null,
   "metadata": {},
   "outputs": [],
   "source": [
    "# type the code to display the length of the index column\n"
   ]
  },
  {
   "cell_type": "code",
   "execution_count": null,
   "metadata": {},
   "outputs": [],
   "source": [
    "# type the code to display the number of columns\n"
   ]
  },
  {
   "cell_type": "markdown",
   "metadata": {},
   "source": [
    "Since this is a small dataset, we could also display the entire table.\n",
    ">`golf_data`"
   ]
  },
  {
   "cell_type": "code",
   "execution_count": null,
   "metadata": {},
   "outputs": [],
   "source": [
    "# type the code to display the golf_data table\n"
   ]
  },
  {
   "cell_type": "markdown",
   "metadata": {},
   "source": [
    "One of the most important basic blocks for machine learning is working with features. Considering data in a table format, a feature is a column with a header that contains different information in each row. Each unique value in a column is called a class.\n",
    "\n",
    "It's important to understand the features and classes in your data to know which columns contain important information when building your model. A dataset could contain hundreds of columns which have information that may not work in your model - the extremes are one value which makes up all or nearly all the instances, and unique values in each row. \n",
    "\n",
    "We can view the unique values in the outlook column to understand how many different values are present.\n",
    ">`print(golf_data[\"outlook\"].unique())`"
   ]
  },
  {
   "cell_type": "code",
   "execution_count": null,
   "metadata": {},
   "outputs": [],
   "source": [
    "# type the code to display the unique values in the outlook column\n"
   ]
  },
  {
   "cell_type": "markdown",
   "metadata": {},
   "source": [
    "The __feature__ is \"outlook\". The __classes__ are \"overcast\", \"rainy\", \"sunny\"."
   ]
  },
  {
   "cell_type": "markdown",
   "metadata": {},
   "source": [
    "We can also get a count of the number of instances of each value.\n",
    ">`print(golf_data.groupby(\"outlook\").size())`"
   ]
  },
  {
   "cell_type": "code",
   "execution_count": null,
   "metadata": {},
   "outputs": [],
   "source": [
    "# type the code to display the number of instances of each value\n"
   ]
  },
  {
   "cell_type": "markdown",
   "metadata": {},
   "source": [
    "We will use the Seaborn library to display some graphs of the data. \n",
    "\n",
    "First we will display the count of the outlook data. Outlook is a categorical feature. Recall that categorical or qualitative data is limited in how it can be displayed.\n",
    "\n",
    ">`sns.countplot(x=golf_data[\"outlook\"], label=\"count\")`  \n",
    ">`plt.show()`"
   ]
  },
  {
   "cell_type": "code",
   "execution_count": null,
   "metadata": {},
   "outputs": [],
   "source": [
    "# type the code to create and display the countplot\n"
   ]
  },
  {
   "attachments": {
    "image.png": {
     "image/png": "[encoded data removed]"
    }
   },
   "cell_type": "markdown",
   "metadata": {},
   "source": [
    "Next we will display boxplots of the numerical data: __temp__ and __hum__\n",
    "\n",
    ">![image.png](attachment:image.png)\n",
    "\n",
    "_Be sure to keep the white space._   \n",
    "When you hit enter after the comma, it will automatically indent the next line of code to ensure that the proper tabbing is in place. \n"
   ]
  },
  {
   "cell_type": "code",
   "execution_count": null,
   "metadata": {},
   "outputs": [],
   "source": [
    "# type the code to display the boxplots\n"
   ]
  },
  {
   "cell_type": "markdown",
   "metadata": {},
   "source": [
    "Now that we understand the data, we are going to use the label encoder to transform the categorical values to numeric values.\n",
    "\n",
    "We will use `le_outlook` to stand in for `preprocessing.LabelEncoder()` and we will pass through the unique values for the \"outlook\" feature (or column).\n",
    "\n",
    ">`le_outlook = preprocessing.LabelEncoder()`  \n",
    ">`le_outlook.fit(golf_data[\"outlook\"])`"
   ]
  },
  {
   "cell_type": "code",
   "execution_count": null,
   "metadata": {},
   "outputs": [],
   "source": [
    "# type the code to fit the \"outlook\" column to label encoder\n"
   ]
  },
  {
   "cell_type": "markdown",
   "metadata": {},
   "source": [
    "Review the classes of data in \"outlook\".  \n",
    ">`list(le_outlook.classes_)`\n",
    "\n",
    "_Note: watch for the underscore following `classes`_."
   ]
  },
  {
   "cell_type": "code",
   "execution_count": null,
   "metadata": {},
   "outputs": [],
   "source": [
    "# type the code to display the classes for \"outlook\"\n"
   ]
  },
  {
   "cell_type": "markdown",
   "metadata": {},
   "source": [
    "We can combine multiple steps in one cell. This code combines the label encoder and displaying the view the classes for \"temperature\".  \n",
    ">`le_temp = preprocessing.LabelEncoder()`  \n",
    ">`le_temp.fit(golf_data[\"temperature\"])`  \n",
    ">`list(le_temp.classes_)`  "
   ]
  },
  {
   "cell_type": "code",
   "execution_count": null,
   "metadata": {},
   "outputs": [],
   "source": [
    "# type the code to label encode and display the classes for \"temperature\"\n"
   ]
  },
  {
   "cell_type": "markdown",
   "metadata": {},
   "source": [
    "Repeat the code to create the following variables:\n",
    " - le_hum for \"humidity\"\n",
    " - le_windy for \"windy\"\n",
    " - le_play for \"play\""
   ]
  },
  {
   "cell_type": "code",
   "execution_count": null,
   "metadata": {},
   "outputs": [],
   "source": [
    "# type the code to label encode and display the classes for \"humidity\"\n"
   ]
  },
  {
   "cell_type": "code",
   "execution_count": null,
   "metadata": {},
   "outputs": [],
   "source": [
    "# type the code to label encode and display the classes for \"windy\"\n"
   ]
  },
  {
   "cell_type": "code",
   "execution_count": null,
   "metadata": {},
   "outputs": [],
   "source": [
    "# type the code to label encode and display the classes for \"play\"\n"
   ]
  },
  {
   "cell_type": "markdown",
   "metadata": {},
   "source": [
    "We are going to create a new dataframe for the Label Encoder values, using `le_golf_data`.  First, we declare `le_golf_data` as a dataframe. When we display `le_golf_data` it will appear empty because nothing has been added to it yet.\n",
    "\n",
    ">`le_golf_data = pd.DataFrame()`  \n",
    ">`le_golf_data`"
   ]
  },
  {
   "cell_type": "code",
   "execution_count": null,
   "metadata": {},
   "outputs": [],
   "source": [
    "# type the code to create le_golf_data"
   ]
  },
  {
   "cell_type": "markdown",
   "metadata": {},
   "source": [
    "Earlier, we created `le_outlook` with encoded lables.\n",
    "\n",
    ">`le_outlook.transform(golf_data['outlook'])`"
   ]
  },
  {
   "cell_type": "code",
   "execution_count": null,
   "metadata": {},
   "outputs": [],
   "source": [
    "# type the code to display le_outlook\n"
   ]
  },
  {
   "cell_type": "markdown",
   "metadata": {},
   "source": [
    "We will add a column for \"outlook\" to our new le_golf_data dataframe using this previously encoded `le_outlook` variable.  \n",
    ">`le_golf_data[\"outlook\"] = le_outlook.transform(golf_data[\"outlook\"])`  \n",
    ">`le_golf_data`"
   ]
  },
  {
   "cell_type": "code",
   "execution_count": null,
   "metadata": {},
   "outputs": [],
   "source": [
    "# type the code to add the new \"outlook\" column to \n",
    "# le_golf_data from the previously used variables.\n"
   ]
  },
  {
   "cell_type": "markdown",
   "metadata": {},
   "source": [
    "Repeat for each of the features in the golf dataset.\n",
    "\n",
    ">`le_golf_data['temperature'] = le_temp.transform(golf_data['temperature'])`  \n",
    ">`le_golf_data['humidity'] = le_hum.transform(golf_data['humidity'])`  \n",
    ">`le_golf_data['windy'] = le_windy.transform(golf_data['windy'])`  \n",
    ">`le_golf_data['play'] = le_play.transform(golf_data['play'])`  \n",
    ">`le_golf_data`"
   ]
  },
  {
   "cell_type": "code",
   "execution_count": null,
   "metadata": {},
   "outputs": [],
   "source": [
    "# type the code to add new columns to le_golf_data from the\n",
    "#previously used variables.\n"
   ]
  },
  {
   "cell_type": "markdown",
   "metadata": {},
   "source": [
    "Now we will declare the features of our dataset. For the machine learning model, this means that this information will be the inputs. For future use, we expect to have the data for these features to make the target predictions.  \n",
    ">`features = [\"outlook\", \"temperature\", \"humidity\", \"windy\"]`  \n",
    ">`features`"
   ]
  },
  {
   "cell_type": "code",
   "execution_count": null,
   "metadata": {},
   "outputs": [],
   "source": [
    "# type the code to declare and display the feature columns\n"
   ]
  },
  {
   "cell_type": "markdown",
   "metadata": {},
   "source": [
    "Let's take a look at golf_data features to review the values in each column.\n",
    ">`golf_data[features]`"
   ]
  },
  {
   "cell_type": "code",
   "execution_count": null,
   "metadata": {},
   "outputs": [],
   "source": [
    "# type the code to view the golf_data features\n"
   ]
  },
  {
   "cell_type": "markdown",
   "metadata": {},
   "source": [
    "Let's take a look at le_golf_data features to review the encoded values in each column.\n",
    ">`le_golf_data[features]`"
   ]
  },
  {
   "cell_type": "code",
   "execution_count": null,
   "metadata": {},
   "outputs": [],
   "source": [
    "# type the code to view the le_golf_data features\n"
   ]
  },
  {
   "cell_type": "markdown",
   "metadata": {},
   "source": [
    "Now we will declare the target of our dataset. Our target will be the predicted value. Our machine learning model will look at the data in the features and predict whether or not golf will be played based on the values in the features. \n",
    "\n",
    "Our model is supervised learning, as we are providing information about the predicted value - we know the conditions in the features that occurred when golf was played, so our model can solve based on the previous information.\n",
    ">`target = \"play\"`  \n",
    ">`target`"
   ]
  },
  {
   "cell_type": "code",
   "execution_count": null,
   "metadata": {},
   "outputs": [],
   "source": [
    "# type the code to declare the target\n"
   ]
  },
  {
   "cell_type": "markdown",
   "metadata": {},
   "source": [
    "We will use Gaussian Naive Bayes to create our model.\n",
    "\n",
    "Gaussian Naive Bayes is an algorithm having a Probabilistic Approach. It involves prior and posterior probability calculation of the classes in the dataset and the test data given a class respectively. Prior probabilities of all the classes are calculated using the same formula.\n",
    "\n",
    "\n",
    ">`model = GaussianNB()`  \n",
    ">`model.fit(le_golf_data[features], le_golf_data[target])`"
   ]
  },
  {
   "cell_type": "code",
   "execution_count": null,
   "metadata": {},
   "outputs": [],
   "source": [
    "# type the code to create the Gaussian model\n"
   ]
  },
  {
   "cell_type": "markdown",
   "metadata": {},
   "source": [
    "Now we will test our model using new data inputs for the features. For this test we will input the following:\n",
    " - test outlook=sunny\n",
    " - temperature=cool\n",
    " - humidity=high\n",
    " - windy=True\n",
    "We will need to use the transformed numeric values.\n",
    ">`a = list(le_outlook.transform(['sunny']))`  \n",
    ">`a.extend(list(le_temp.transform(['cool'])))`  \n",
    ">`a.extend(list(le_hum.transform(['high'])))`  \n",
    ">`a.extend(list(le_windy.transform([True])))`  \n",
    ">`a`  "
   ]
  },
  {
   "cell_type": "code",
   "execution_count": null,
   "metadata": {},
   "outputs": [],
   "source": [
    "# type the code to test outlook=sunny, temperature=cool, humidity=high, windy=True\n"
   ]
  },
  {
   "cell_type": "markdown",
   "metadata": {},
   "source": [
    "To view the prediction, we need to call the results.\n",
    "\n",
    ">`print(model.predict([a]))`"
   ]
  },
  {
   "cell_type": "code",
   "execution_count": null,
   "metadata": {},
   "outputs": [],
   "source": [
    "# type the code to display the prediction\n"
   ]
  },
  {
   "cell_type": "markdown",
   "metadata": {},
   "source": [
    "Of course, the result is the encoded value - that's what we provided to the model. To translate back to text, you can wrap the call with the `inverse_tranform` function.\n",
    ">`print(le_play.inverse_transform(model.predict([a])))`"
   ]
  },
  {
   "cell_type": "code",
   "execution_count": null,
   "metadata": {},
   "outputs": [],
   "source": [
    "# type the code to translate the numeric value back to text\n"
   ]
  },
  {
   "cell_type": "markdown",
   "metadata": {},
   "source": [
    "Next, we want to look at the accuracy of the classification model. This compares the true values to the predicted values to determine the accuracy. The value returned is the fraction of correctly classified samples. Our example only has one predicted value.\n",
    "\n",
    ">`accuracy = accuracy_score([0], model.predict([a]))`  \n",
    ">`accuracy`"
   ]
  },
  {
   "cell_type": "code",
   "execution_count": null,
   "metadata": {},
   "outputs": [],
   "source": [
    "# type the code to display the accuracy of the predicted values\n"
   ]
  },
  {
   "cell_type": "markdown",
   "metadata": {},
   "source": [
    "Now we will test our model using different data inputs for the features. For this test we will input the following:\n",
    " - test outlook=sunny\n",
    " - temperature=hot\n",
    " - humidity=normal\n",
    " - windy=False\n",
    "\n",
    ">`a = list(le_outlook.transform(['sunny']))`  \n",
    ">`a.extend(list(le_temp.transform(['hot'])))`  \n",
    ">`a.extend(list(le_hum.transform(['normal'])))`  \n",
    ">`a.extend(list(le_windy.transform([False])))`  \n",
    ">`a`\n"
   ]
  },
  {
   "cell_type": "code",
   "execution_count": null,
   "metadata": {},
   "outputs": [],
   "source": [
    "# type the code to test outlook=sunny, temperature=hot, humidity=normal, windy=False\n",
    "\n"
   ]
  },
  {
   "cell_type": "markdown",
   "metadata": {},
   "source": [
    "Display the prediction and transform back to text.\n",
    "\n",
    ">`print(model.predict([a]))`  \n",
    ">`print(le_play.inverse_transform(model.predict([a])))`"
   ]
  },
  {
   "cell_type": "code",
   "execution_count": null,
   "metadata": {},
   "outputs": [],
   "source": [
    "# type the code to translate the numeric value back to text\n"
   ]
  },
  {
   "cell_type": "markdown",
   "metadata": {},
   "source": [
    "Display the accuracy score for the new test.\n",
    "\n",
    ">`accuracy = accuracy_score([1], model.predict([a]))`  \n",
    ">`accuracy`"
   ]
  },
  {
   "cell_type": "code",
   "execution_count": null,
   "metadata": {},
   "outputs": [],
   "source": [
    "# type the code to display the accuracy of the predicted values\n"
   ]
  },
  {
   "cell_type": "code",
   "execution_count": null,
   "metadata": {},
   "outputs": [],
   "source": [
    "# add a comment explaining when you would use LabelEncoder\n"
   ]
  },
  {
   "cell_type": "markdown",
   "metadata": {},
   "source": [
    "Download this completed notebook. \n",
    "#### File > Download as > Notebook (.ipynb)"
   ]
  },
  {
   "cell_type": "code",
   "execution_count": null,
   "metadata": {},
   "outputs": [],
   "source": []
  }
 ],
 "metadata": {
  "kernelspec": {
   "display_name": "Python 3",
   "language": "python",
   "name": "python3"
  },
  "language_info": {
   "codemirror_mode": {
    "name": "ipython",
    "version": 3
   },
   "file_extension": ".py",
   "mimetype": "text/x-python",
   "name": "python",
   "nbconvert_exporter": "python",
   "pygments_lexer": "ipython3",
   "version": "3.7.4"
  }
 },
 "nbformat": 4,
 "nbformat_minor": 2
}
